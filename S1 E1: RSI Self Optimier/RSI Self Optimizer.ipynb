{
 "cells": [
  {
   "cell_type": "code",
   "execution_count": 1,
   "id": "4d7f7abf-3ff2-478d-8f86-4113333eadcb",
   "metadata": {},
   "outputs": [],
   "source": [
    "#Let's get started\n",
    "import MetaTrader5       as mt5\n",
    "import pandas            as pd\n",
    "import numpy             as np\n",
    "import seaborn           as sns\n",
    "import matplotlib.pyplot as plt\n",
    "import pandas_ta         as ta"
   ]
  },
  {
   "cell_type": "code",
   "execution_count": 121,
   "id": "5438b26d-2627-49b5-8363-b15824752040",
   "metadata": {},
   "outputs": [
    {
     "data": {
      "text/plain": [
       "True"
      ]
     },
     "execution_count": 121,
     "metadata": {},
     "output_type": "execute_result"
    }
   ],
   "source": [
    "mt5.initialize()"
   ]
  },
  {
   "cell_type": "code",
   "execution_count": 122,
   "id": "f85272e0-ebe8-4e87-bfbe-759a09cd079b",
   "metadata": {},
   "outputs": [],
   "source": [
    "#Fetch market data\n",
    "SYMBOL    = \"NZDJPY\"\n",
    "TIMEFRAME = mt5.TIMEFRAME_M1"
   ]
  },
  {
   "cell_type": "code",
   "execution_count": 123,
   "id": "0c8f525a-055d-43c4-8509-11df39219d83",
   "metadata": {},
   "outputs": [],
   "source": [
    "data = pd.DataFrame(mt5.copy_rates_from_pos(SYMBOL,TIMEFRAME,0,300000))"
   ]
  },
  {
   "cell_type": "code",
   "execution_count": 124,
   "id": "eef54071-df85-4fee-a7c6-8dcd2b4b60ef",
   "metadata": {},
   "outputs": [],
   "source": [
    "data[\"time\"]  = pd.to_datetime(data[\"time\"],unit='s')"
   ]
  },
  {
   "cell_type": "code",
   "execution_count": 125,
   "id": "322ed525-3d71-4b32-944d-ea697a5e793e",
   "metadata": {},
   "outputs": [
    {
     "data": {
      "text/plain": [
       "0               NaN\n",
       "1               NaN\n",
       "2               NaN\n",
       "3               NaN\n",
       "4               NaN\n",
       "            ...    \n",
       "299995    49.436636\n",
       "299996    45.840971\n",
       "299997    48.836421\n",
       "299998    47.351988\n",
       "299999    48.528330\n",
       "Name: RSI_20, Length: 300000, dtype: float64"
      ]
     },
     "execution_count": 125,
     "metadata": {},
     "output_type": "execute_result"
    }
   ],
   "source": [
    "data.ta.rsi(length=20,append=True)"
   ]
  },
  {
   "cell_type": "code",
   "execution_count": 126,
   "id": "5ab7d60d-08ba-4cf0-a7ba-100c2d2e919f",
   "metadata": {},
   "outputs": [],
   "source": [
    "#Define the look ahead\n",
    "look_ahead = 20"
   ]
  },
  {
   "cell_type": "code",
   "execution_count": 127,
   "id": "360d923b-3a37-41a7-95a2-c207a467cce6",
   "metadata": {},
   "outputs": [],
   "source": [
    "#Label the data\n",
    "data[\"Target\"] = np.nan\n",
    "\n",
    "data.loc[data[\"close\"] > data[\"close\"].shift(-20),\"Target\"] = -1\n",
    "data.loc[data[\"close\"] < data[\"close\"].shift(-20),\"Target\"] = 1"
   ]
  },
  {
   "cell_type": "code",
   "execution_count": 128,
   "id": "1ed93dbf-fdcd-424c-afc8-30c7b1adf38a",
   "metadata": {},
   "outputs": [],
   "source": [
    "data.dropna(inplace=True)\n",
    "data.reset_index(inplace=True,drop=True)"
   ]
  },
  {
   "cell_type": "code",
   "execution_count": 129,
   "id": "4e6e738f-dcc2-46ac-9cc5-03587ee25526",
   "metadata": {},
   "outputs": [],
   "source": [
    "#Create a dataframe \n",
    "rsi_matrix = pd.DataFrame(columns=[\"0-10\",\"11-20\",\"21-30\",\"31-40\",\"41-50\",\"51-60\",\"61-70\",\"71-80\",\"81-90\",\"91-100\"],index=[0])"
   ]
  },
  {
   "cell_type": "code",
   "execution_count": 131,
   "id": "0108876a-806b-4db9-a4e5-824fc41fb65a",
   "metadata": {},
   "outputs": [
    {
     "data": {
      "text/html": [
       "<div>\n",
       "<style scoped>\n",
       "    .dataframe tbody tr th:only-of-type {\n",
       "        vertical-align: middle;\n",
       "    }\n",
       "\n",
       "    .dataframe tbody tr th {\n",
       "        vertical-align: top;\n",
       "    }\n",
       "\n",
       "    .dataframe thead th {\n",
       "        text-align: right;\n",
       "    }\n",
       "</style>\n",
       "<table border=\"1\" class=\"dataframe\">\n",
       "  <thead>\n",
       "    <tr style=\"text-align: right;\">\n",
       "      <th></th>\n",
       "      <th>time</th>\n",
       "      <th>open</th>\n",
       "      <th>high</th>\n",
       "      <th>low</th>\n",
       "      <th>close</th>\n",
       "      <th>tick_volume</th>\n",
       "      <th>spread</th>\n",
       "      <th>real_volume</th>\n",
       "      <th>RSI_20</th>\n",
       "      <th>Target</th>\n",
       "    </tr>\n",
       "  </thead>\n",
       "  <tbody>\n",
       "    <tr>\n",
       "      <th>0</th>\n",
       "      <td>2023-12-13 04:02:00</td>\n",
       "      <td>88.915</td>\n",
       "      <td>88.917</td>\n",
       "      <td>88.880</td>\n",
       "      <td>88.882</td>\n",
       "      <td>61</td>\n",
       "      <td>5</td>\n",
       "      <td>0</td>\n",
       "      <td>12.801448</td>\n",
       "      <td>1.0</td>\n",
       "    </tr>\n",
       "    <tr>\n",
       "      <th>1</th>\n",
       "      <td>2023-12-13 04:03:00</td>\n",
       "      <td>88.884</td>\n",
       "      <td>88.900</td>\n",
       "      <td>88.857</td>\n",
       "      <td>88.866</td>\n",
       "      <td>47</td>\n",
       "      <td>8</td>\n",
       "      <td>0</td>\n",
       "      <td>11.550448</td>\n",
       "      <td>1.0</td>\n",
       "    </tr>\n",
       "    <tr>\n",
       "      <th>2</th>\n",
       "      <td>2023-12-13 04:04:00</td>\n",
       "      <td>88.866</td>\n",
       "      <td>88.889</td>\n",
       "      <td>88.850</td>\n",
       "      <td>88.887</td>\n",
       "      <td>44</td>\n",
       "      <td>8</td>\n",
       "      <td>0</td>\n",
       "      <td>22.071736</td>\n",
       "      <td>1.0</td>\n",
       "    </tr>\n",
       "    <tr>\n",
       "      <th>3</th>\n",
       "      <td>2023-12-13 04:05:00</td>\n",
       "      <td>88.887</td>\n",
       "      <td>88.896</td>\n",
       "      <td>88.879</td>\n",
       "      <td>88.890</td>\n",
       "      <td>42</td>\n",
       "      <td>5</td>\n",
       "      <td>0</td>\n",
       "      <td>23.441188</td>\n",
       "      <td>1.0</td>\n",
       "    </tr>\n",
       "    <tr>\n",
       "      <th>4</th>\n",
       "      <td>2023-12-13 04:06:00</td>\n",
       "      <td>88.890</td>\n",
       "      <td>88.890</td>\n",
       "      <td>88.848</td>\n",
       "      <td>88.876</td>\n",
       "      <td>76</td>\n",
       "      <td>5</td>\n",
       "      <td>0</td>\n",
       "      <td>21.578436</td>\n",
       "      <td>1.0</td>\n",
       "    </tr>\n",
       "    <tr>\n",
       "      <th>...</th>\n",
       "      <td>...</td>\n",
       "      <td>...</td>\n",
       "      <td>...</td>\n",
       "      <td>...</td>\n",
       "      <td>...</td>\n",
       "      <td>...</td>\n",
       "      <td>...</td>\n",
       "      <td>...</td>\n",
       "      <td>...</td>\n",
       "      <td>...</td>\n",
       "    </tr>\n",
       "    <tr>\n",
       "      <th>297266</th>\n",
       "      <td>2024-10-02 21:14:00</td>\n",
       "      <td>91.566</td>\n",
       "      <td>91.572</td>\n",
       "      <td>91.554</td>\n",
       "      <td>91.570</td>\n",
       "      <td>65</td>\n",
       "      <td>5</td>\n",
       "      <td>0</td>\n",
       "      <td>48.157959</td>\n",
       "      <td>1.0</td>\n",
       "    </tr>\n",
       "    <tr>\n",
       "      <th>297267</th>\n",
       "      <td>2024-10-02 21:15:00</td>\n",
       "      <td>91.570</td>\n",
       "      <td>91.586</td>\n",
       "      <td>91.567</td>\n",
       "      <td>91.575</td>\n",
       "      <td>84</td>\n",
       "      <td>5</td>\n",
       "      <td>0</td>\n",
       "      <td>49.374567</td>\n",
       "      <td>-1.0</td>\n",
       "    </tr>\n",
       "    <tr>\n",
       "      <th>297268</th>\n",
       "      <td>2024-10-02 21:16:00</td>\n",
       "      <td>91.574</td>\n",
       "      <td>91.587</td>\n",
       "      <td>91.574</td>\n",
       "      <td>91.579</td>\n",
       "      <td>50</td>\n",
       "      <td>5</td>\n",
       "      <td>0</td>\n",
       "      <td>50.355648</td>\n",
       "      <td>-1.0</td>\n",
       "    </tr>\n",
       "    <tr>\n",
       "      <th>297269</th>\n",
       "      <td>2024-10-02 21:17:00</td>\n",
       "      <td>91.576</td>\n",
       "      <td>91.581</td>\n",
       "      <td>91.570</td>\n",
       "      <td>91.581</td>\n",
       "      <td>46</td>\n",
       "      <td>5</td>\n",
       "      <td>0</td>\n",
       "      <td>50.856887</td>\n",
       "      <td>-1.0</td>\n",
       "    </tr>\n",
       "    <tr>\n",
       "      <th>297270</th>\n",
       "      <td>2024-10-02 21:18:00</td>\n",
       "      <td>91.580</td>\n",
       "      <td>91.590</td>\n",
       "      <td>91.570</td>\n",
       "      <td>91.588</td>\n",
       "      <td>88</td>\n",
       "      <td>5</td>\n",
       "      <td>0</td>\n",
       "      <td>52.619352</td>\n",
       "      <td>-1.0</td>\n",
       "    </tr>\n",
       "  </tbody>\n",
       "</table>\n",
       "<p>297271 rows × 10 columns</p>\n",
       "</div>"
      ],
      "text/plain": [
       "                      time    open    high     low   close  tick_volume  \\\n",
       "0      2023-12-13 04:02:00  88.915  88.917  88.880  88.882           61   \n",
       "1      2023-12-13 04:03:00  88.884  88.900  88.857  88.866           47   \n",
       "2      2023-12-13 04:04:00  88.866  88.889  88.850  88.887           44   \n",
       "3      2023-12-13 04:05:00  88.887  88.896  88.879  88.890           42   \n",
       "4      2023-12-13 04:06:00  88.890  88.890  88.848  88.876           76   \n",
       "...                    ...     ...     ...     ...     ...          ...   \n",
       "297266 2024-10-02 21:14:00  91.566  91.572  91.554  91.570           65   \n",
       "297267 2024-10-02 21:15:00  91.570  91.586  91.567  91.575           84   \n",
       "297268 2024-10-02 21:16:00  91.574  91.587  91.574  91.579           50   \n",
       "297269 2024-10-02 21:17:00  91.576  91.581  91.570  91.581           46   \n",
       "297270 2024-10-02 21:18:00  91.580  91.590  91.570  91.588           88   \n",
       "\n",
       "        spread  real_volume     RSI_20  Target  \n",
       "0            5            0  12.801448     1.0  \n",
       "1            8            0  11.550448     1.0  \n",
       "2            8            0  22.071736     1.0  \n",
       "3            5            0  23.441188     1.0  \n",
       "4            5            0  21.578436     1.0  \n",
       "...        ...          ...        ...     ...  \n",
       "297266       5            0  48.157959     1.0  \n",
       "297267       5            0  49.374567    -1.0  \n",
       "297268       5            0  50.355648    -1.0  \n",
       "297269       5            0  50.856887    -1.0  \n",
       "297270       5            0  52.619352    -1.0  \n",
       "\n",
       "[297271 rows x 10 columns]"
      ]
     },
     "execution_count": 131,
     "metadata": {},
     "output_type": "execute_result"
    }
   ],
   "source": [
    "data"
   ]
  },
  {
   "cell_type": "code",
   "execution_count": 132,
   "id": "eb84b60c-20ae-411a-aa11-146c3840fc65",
   "metadata": {},
   "outputs": [],
   "source": [
    "#Initialize the rsi matrix to 0\n",
    "for i in np.arange(0,9):\n",
    "    rsi_matrix.iloc[0,i] = 0"
   ]
  },
  {
   "cell_type": "code",
   "execution_count": 133,
   "id": "d6e9930b-6cc6-4c4c-a94b-38ebc7936de8",
   "metadata": {},
   "outputs": [],
   "source": [
    "#Split the data into train and test sets\n",
    "train = data.loc[:(data.shape[0]//2),:]\n",
    "test  = data.loc[(data.shape[0]//2):,:]"
   ]
  },
  {
   "cell_type": "code",
   "execution_count": 18,
   "id": "d163ed70-e334-4365-bbc1-d7c23d5396a9",
   "metadata": {},
   "outputs": [],
   "source": [
    "for i in np.arange(0,train.shape[0]):\n",
    "    #Fill in the rsi matrix, what happened in the future when we saw RSI readings below 10?\n",
    "    if((train.loc[i,\"RSI_20\"] <= 10)):\n",
    "        rsi_matrix.iloc[0,0] = rsi_matrix.iloc[0,0] + train.loc[i,\"Target\"]\n",
    "    #What tends to happen in the future, after seeing RSI readings between 11 and 20?\n",
    "    if((train.loc[i,\"RSI_20\"] > 10) & (train.loc[i,\"RSI_20\"] <= 20)):\n",
    "        rsi_matrix.iloc[0,1] = rsi_matrix.iloc[0,1] + train.loc[i,\"Target\"]\n",
    "    #What tends to happen in the future, after seeing RSI readings between 21 and 30?\n",
    "    if((train.loc[i,\"RSI_20\"] > 20) & (train.loc[i,\"RSI_20\"] <= 30)):\n",
    "        rsi_matrix.iloc[0,2] = rsi_matrix.iloc[0,2] + train.loc[i,\"Target\"]\n",
    "    #What tends to happen in the future, after seeing RSI readings between 31 and 40?\n",
    "    if((train.loc[i,\"RSI_20\"] > 30) & (train.loc[i,\"RSI_20\"] <= 40)):\n",
    "        rsi_matrix.iloc[0,3] = rsi_matrix.iloc[0,3] + train.loc[i,\"Target\"]\n",
    "    #What tends to happen in the future, after seeing RSI readings between 41 and 50?\n",
    "    if((train.loc[i,\"RSI_20\"] > 40) & (train.loc[i,\"RSI_20\"] <= 50)):\n",
    "        rsi_matrix.iloc[0,4] = rsi_matrix.iloc[0,4] + train.loc[i,\"Target\"]\n",
    "    #What tends to happen in the future, after seeing RSI readings between 51 and 60?\n",
    "    if((train.loc[i,\"RSI_20\"] > 50) & (train.loc[i,\"RSI_20\"] <= 60)):\n",
    "        rsi_matrix.iloc[0,5] = rsi_matrix.iloc[0,5] + train.loc[i,\"Target\"]\n",
    "    #What tends to happen in the future, after seeing RSI readings between 61 and 70?\n",
    "    if((train.loc[i,\"RSI_20\"] > 60) & (train.loc[i,\"RSI_20\"] <= 70)):\n",
    "        rsi_matrix.iloc[0,6] = rsi_matrix.iloc[0,6] + train.loc[i,\"Target\"]\n",
    "    #What tends to happen in the future, after seeing RSI readings between 71 and 80?\n",
    "    if((train.loc[i,\"RSI_20\"] > 70) & (train.loc[i,\"RSI_20\"] <= 80)):\n",
    "        rsi_matrix.iloc[0,7] = rsi_matrix.iloc[0,7] + train.loc[i,\"Target\"]\n",
    "    #What tends to happen in the future, after seeing RSI readings between 81 and 90?\n",
    "    if((train.loc[i,\"RSI_20\"] > 80) & (train.loc[i,\"RSI_20\"] <= 90)):\n",
    "        rsi_matrix.iloc[0,8] = rsi_matrix.iloc[0,8] + train.loc[i,\"Target\"]\n",
    "    #What tends to happen in the future, after seeing RSI readings between 91 and 100?\n",
    "    if((train.loc[i,\"RSI_20\"] > 90) & (train.loc[i,\"RSI_20\"] <= 100)):\n",
    "        rsi_matrix.iloc[0,9] = rsi_matrix.iloc[0,9] + train.loc[i,\"Target\"]"
   ]
  },
  {
   "cell_type": "code",
   "execution_count": 109,
   "id": "df51c0e8-a114-444b-8c6d-69fc2134078e",
   "metadata": {},
   "outputs": [
    {
     "data": {
      "text/plain": [
       "2.0"
      ]
     },
     "execution_count": 109,
     "metadata": {},
     "output_type": "execute_result"
    }
   ],
   "source": [
    "rsi_matrix.iloc[0,0]"
   ]
  },
  {
   "cell_type": "code",
   "execution_count": 133,
   "id": "ba5fc3ca-6409-46e9-8514-1af33d8a20bb",
   "metadata": {},
   "outputs": [
    {
     "data": {
      "text/html": [
       "<div>\n",
       "<style scoped>\n",
       "    .dataframe tbody tr th:only-of-type {\n",
       "        vertical-align: middle;\n",
       "    }\n",
       "\n",
       "    .dataframe tbody tr th {\n",
       "        vertical-align: top;\n",
       "    }\n",
       "\n",
       "    .dataframe thead th {\n",
       "        text-align: right;\n",
       "    }\n",
       "</style>\n",
       "<table border=\"1\" class=\"dataframe\">\n",
       "  <thead>\n",
       "    <tr style=\"text-align: right;\">\n",
       "      <th></th>\n",
       "      <th>0-10</th>\n",
       "      <th>11-20</th>\n",
       "      <th>21-30</th>\n",
       "      <th>31-40</th>\n",
       "      <th>41-50</th>\n",
       "      <th>51-60</th>\n",
       "      <th>61-70</th>\n",
       "      <th>71-80</th>\n",
       "      <th>81-90</th>\n",
       "      <th>91-100</th>\n",
       "    </tr>\n",
       "  </thead>\n",
       "  <tbody>\n",
       "    <tr>\n",
       "      <th>0</th>\n",
       "      <td>4.0</td>\n",
       "      <td>47.0</td>\n",
       "      <td>221.0</td>\n",
       "      <td>1171.0</td>\n",
       "      <td>3786.0</td>\n",
       "      <td>945.0</td>\n",
       "      <td>-1159.0</td>\n",
       "      <td>-35.0</td>\n",
       "      <td>-3.0</td>\n",
       "      <td>NaN</td>\n",
       "    </tr>\n",
       "  </tbody>\n",
       "</table>\n",
       "</div>"
      ],
      "text/plain": [
       "  0-10 11-20  21-30   31-40   41-50  51-60   61-70 71-80 81-90 91-100\n",
       "0  4.0  47.0  221.0  1171.0  3786.0  945.0 -1159.0 -35.0  -3.0    NaN"
      ]
     },
     "execution_count": 133,
     "metadata": {},
     "output_type": "execute_result"
    }
   ],
   "source": [
    "rsi_matrix"
   ]
  },
  {
   "cell_type": "code",
   "execution_count": 134,
   "id": "ae0d5a33-3b3a-42b8-98f3-90b2615ac013",
   "metadata": {},
   "outputs": [
    {
     "data": {
      "text/plain": [
       "<Axes: >"
      ]
     },
     "execution_count": 134,
     "metadata": {},
     "output_type": "execute_result"
    },
    {
     "data": {
      "image/png": "[encoded data removed]",
      "text/plain": [
       "<Figure size 640x480 with 1 Axes>"
      ]
     },
     "metadata": {},
     "output_type": "display_data"
    }
   ],
   "source": [
    "sns.barplot(rsi_matrix)"
   ]
  },
  {
   "cell_type": "code",
   "execution_count": 135,
   "id": "7d1f3865-2d2b-4cec-86fc-320340b13412",
   "metadata": {},
   "outputs": [
    {
     "data": {
      "text/plain": [
       "<Axes: >"
      ]
     },
     "execution_count": 135,
     "metadata": {},
     "output_type": "execute_result"
    },
    {
     "data": {
      "image/png": "[encoded data removed]",
      "text/plain": [
       "<Figure size 640x480 with 1 Axes>"
      ]
     },
     "metadata": {},
     "output_type": "display_data"
    }
   ],
   "source": [
    "sns.scatterplot(rsi_matrix)"
   ]
  },
  {
   "cell_type": "code",
   "execution_count": 136,
   "id": "7a2c4006-c4c3-4f94-a886-f4309187b277",
   "metadata": {},
   "outputs": [],
   "source": [
    "test.reset_index(inplace=True,drop=True)"
   ]
  },
  {
   "cell_type": "code",
   "execution_count": 137,
   "id": "9ef2c603-e9bf-4550-92bb-901c74541d2c",
   "metadata": {},
   "outputs": [
    {
     "name": "stderr",
     "output_type": "stream",
     "text": [
      "C:\\users\\volatily\\Temp\\ipykernel_672\\2217816084.py:1: SettingWithCopyWarning: \n",
      "A value is trying to be set on a copy of a slice from a DataFrame.\n",
      "Try using .loc[row_indexer,col_indexer] = value instead\n",
      "\n",
      "See the caveats in the documentation: https://pandas.pydata.org/pandas-docs/stable/user_guide/indexing.html#returning-a-view-versus-a-copy\n",
      "  test[\"Predictions\"]  = np.nan\n"
     ]
    }
   ],
   "source": [
    "test[\"Predictions\"]  = np.nan"
   ]
  },
  {
   "cell_type": "code",
   "execution_count": 138,
   "id": "cbbecfb8-4f14-464a-afa1-a8f60032b0b5",
   "metadata": {},
   "outputs": [
    {
     "data": {
      "text/html": [
       "<div>\n",
       "<style scoped>\n",
       "    .dataframe tbody tr th:only-of-type {\n",
       "        vertical-align: middle;\n",
       "    }\n",
       "\n",
       "    .dataframe tbody tr th {\n",
       "        vertical-align: top;\n",
       "    }\n",
       "\n",
       "    .dataframe thead th {\n",
       "        text-align: right;\n",
       "    }\n",
       "</style>\n",
       "<table border=\"1\" class=\"dataframe\">\n",
       "  <thead>\n",
       "    <tr style=\"text-align: right;\">\n",
       "      <th></th>\n",
       "      <th>0-10</th>\n",
       "      <th>11-20</th>\n",
       "      <th>21-30</th>\n",
       "      <th>31-40</th>\n",
       "      <th>41-50</th>\n",
       "      <th>51-60</th>\n",
       "      <th>61-70</th>\n",
       "      <th>71-80</th>\n",
       "      <th>81-90</th>\n",
       "      <th>91-100</th>\n",
       "    </tr>\n",
       "  </thead>\n",
       "  <tbody>\n",
       "    <tr>\n",
       "      <th>0</th>\n",
       "      <td>4.0</td>\n",
       "      <td>47.0</td>\n",
       "      <td>221.0</td>\n",
       "      <td>1171.0</td>\n",
       "      <td>3786.0</td>\n",
       "      <td>945.0</td>\n",
       "      <td>-1159.0</td>\n",
       "      <td>-35.0</td>\n",
       "      <td>-3.0</td>\n",
       "      <td>NaN</td>\n",
       "    </tr>\n",
       "  </tbody>\n",
       "</table>\n",
       "</div>"
      ],
      "text/plain": [
       "  0-10 11-20  21-30   31-40   41-50  51-60   61-70 71-80 81-90 91-100\n",
       "0  4.0  47.0  221.0  1171.0  3786.0  945.0 -1159.0 -35.0  -3.0    NaN"
      ]
     },
     "execution_count": 138,
     "metadata": {},
     "output_type": "execute_result"
    }
   ],
   "source": [
    "rsi_matrix"
   ]
  },
  {
   "cell_type": "code",
   "execution_count": 140,
   "id": "2d12bcdf-4516-4709-98e1-0bdda51a3098",
   "metadata": {},
   "outputs": [],
   "source": [
    "for i in np.arange(0,test.shape[0]):\n",
    "    #Fill in the predictions\n",
    "    if((test.loc[i,\"RSI_20\"] <= 10)):\n",
    "        test.loc[i,\"Predictions\"] = 1\n",
    "    \n",
    "    if((test.loc[i,\"RSI_20\"] > 10) & (test.loc[i,\"RSI_20\"] <= 20)):\n",
    "        test.loc[i,\"Predictions\"] = 1\n",
    "    \n",
    "    if((test.loc[i,\"RSI_20\"] > 20) & (test.loc[i,\"RSI_20\"] <= 30)):\n",
    "        test.loc[i,\"Predictions\"] = 1\n",
    "        \n",
    "    if((test.loc[i,\"RSI_20\"] > 30) & (test.loc[i,\"RSI_20\"] <= 40)):\n",
    "        test.loc[i,\"Predictions\"] = 1\n",
    "\n",
    "    if((test.loc[i,\"RSI_20\"] > 40) & (test.loc[i,\"RSI_20\"] <= 50)):\n",
    "        test.loc[i,\"Predictions\"] = 1\n",
    "\n",
    "    if((test.loc[i,\"RSI_20\"] > 50) & (test.loc[i,\"RSI_20\"] <= 60)):\n",
    "        test.loc[i,\"Predictions\"] = 1\n",
    "\n",
    "    if((test.loc[i,\"RSI_20\"] > 60) & (test.loc[i,\"RSI_20\"] <= 70)):\n",
    "        test.loc[i,\"Predictions\"] = -1\n",
    "\n",
    "    if((test.loc[i,\"RSI_20\"] > 70) & (test.loc[i,\"RSI_20\"] <= 80)):\n",
    "        test.loc[i,\"Predictions\"] = -1\n",
    "\n",
    "    if((test.loc[i,\"RSI_20\"] > 80) & (test.loc[i,\"RSI_20\"] <= 90)):\n",
    "        test.loc[i,\"Predictions\"] = -1\n",
    "\n",
    "    if((test.loc[i,\"RSI_20\"] > 90) & (test.loc[i,\"RSI_20\"] <= 100)):\n",
    "        test.loc[i,\"Predictions\"] = -1"
   ]
  },
  {
   "cell_type": "code",
   "execution_count": 142,
   "id": "2cc9408d-f754-44a6-97c9-39957226c206",
   "metadata": {},
   "outputs": [
    {
     "data": {
      "text/plain": [
       "False"
      ]
     },
     "execution_count": 142,
     "metadata": {},
     "output_type": "execute_result"
    }
   ],
   "source": [
    "test.loc[:,\"Predictions\"].isna().any()"
   ]
  },
  {
   "cell_type": "code",
   "execution_count": 144,
   "id": "69a1ce33-f444-4fd6-8a8e-1176616145fe",
   "metadata": {},
   "outputs": [
    {
     "data": {
      "text/plain": [
       "count     148636\n",
       "unique         2\n",
       "top         True\n",
       "freq       77409\n",
       "dtype: object"
      ]
     },
     "execution_count": 144,
     "metadata": {},
     "output_type": "execute_result"
    }
   ],
   "source": [
    "(test[\"Target\"] == test[\"Predictions\"]).describe() "
   ]
  },
  {
   "cell_type": "code",
   "execution_count": 146,
   "id": "e4b5ae5f-8641-4d6a-9699-9a9ffcd6107b",
   "metadata": {},
   "outputs": [
    {
     "data": {
      "text/plain": [
       "0.5207957695309346"
      ]
     },
     "execution_count": 146,
     "metadata": {},
     "output_type": "execute_result"
    }
   ],
   "source": [
    "#Our estimation of the model's accuracy\n",
    "((test[\"Target\"] == test[\"Predictions\"]).describe().freq / (test[\"Target\"] == test[\"Predictions\"]).shape[0])"
   ]
  },
  {
   "cell_type": "code",
   "execution_count": 84,
   "id": "099af1b5-c708-4904-8d6a-362ef249ad77",
   "metadata": {},
   "outputs": [],
   "source": [
    "val_err = []"
   ]
  },
  {
   "cell_type": "code",
   "execution_count": null,
   "id": "b2a75818-e624-4b95-9358-9497f0f393a9",
   "metadata": {},
   "outputs": [],
   "source": [
    "val_err.append(test.loc[(test[\"RSI_20\"] < 10) & (test[\"Predictions\"] == test[\"Target\"])].shape[0] / test.loc[test[\"RSI_20\"] < 10].shape[0])\n",
    "val_err.append(test.loc[((test[\"RSI_20\"] <= 20) & (test[\"RSI_20\"] > 10)) & (test[\"Predictions\"] == test[\"Target\"])].shape[0] / test.loc[((test[\"RSI_20\"] <= 20) & (test[\"RSI_20\"] > 10))].shape[0])\n",
    "val_err.append(test.loc[((test[\"RSI_20\"] <= 30) & (test[\"RSI_20\"] > 20)) & (test[\"Predictions\"] == test[\"Target\"])].shape[0] / test.loc[((test[\"RSI_20\"] <= 30) & (test[\"RSI_20\"] > 20))].shape[0])\n",
    "val_err.append(test.loc[((test[\"RSI_20\"] <= 40) & (test[\"RSI_20\"] > 30)) & (test[\"Predictions\"] == test[\"Target\"])].shape[0] / test.loc[((test[\"RSI_20\"] <= 40) & (test[\"RSI_20\"] > 30))].shape[0])\n",
    "val_err.append(test.loc[((test[\"RSI_20\"] <= 50) & (test[\"RSI_20\"] > 40)) & (test[\"Predictions\"] == test[\"Target\"])].shape[0] / test.loc[((test[\"RSI_20\"] <= 50) & (test[\"RSI_20\"] > 40))].shape[0])\n",
    "val_err.append(test.loc[((test[\"RSI_20\"] <= 60) & (test[\"RSI_20\"] > 50)) & (test[\"Predictions\"] == test[\"Target\"])].shape[0] / test.loc[((test[\"RSI_20\"] <= 60) & (test[\"RSI_20\"] > 50))].shape[0])\n",
    "val_err.append(test.loc[((test[\"RSI_20\"] <= 70) & (test[\"RSI_20\"] > 60)) & (test[\"Predictions\"] == test[\"Target\"])].shape[0] / test.loc[((test[\"RSI_20\"] <= 70) & (test[\"RSI_20\"] > 60))].shape[0])\n",
    "val_err.append(test.loc[((test[\"RSI_20\"] <= 80) & (test[\"RSI_20\"] > 70)) & (test[\"Predictions\"] == test[\"Target\"])].shape[0] / test.loc[((test[\"RSI_20\"] <= 80) & (test[\"RSI_20\"] > 70))].shape[0])\n",
    "val_err.append(test.loc[((test[\"RSI_20\"] <= 90) & (test[\"RSI_20\"] > 80)) & (test[\"Predictions\"] == test[\"Target\"])].shape[0] / test.loc[((test[\"RSI_20\"] <= 90) & (test[\"RSI_20\"] > 80))].shape[0])\n",
    "val_err.append(test.loc[((test[\"RSI_20\"] <= 100) & (test[\"RSI_20\"] > 90)) & (test[\"Predictions\"] == test[\"Target\"])].shape[0] / test.loc[((test[\"RSI_20\"] <= 100) & (test[\"RSI_20\"] > 90))].shape[0])"
   ]
  },
  {
   "cell_type": "code",
   "execution_count": null,
   "id": "7ff3d13c-362f-4040-9bcf-8a15c8d53ad8",
   "metadata": {},
   "outputs": [],
   "source": [
    "fifty = np.zeros(len(val_err)) + 0.5"
   ]
  },
  {
   "cell_type": "code",
   "execution_count": 170,
   "id": "b95afd32-f9e1-415e-972c-02bbdebedcba",
   "metadata": {},
   "outputs": [
    {
     "data": {
      "text/plain": [
       "[<matplotlib.lines.Line2D at 0x7ec3cf0a1ed0>]"
      ]
     },
     "execution_count": 170,
     "metadata": {},
     "output_type": "execute_result"
    },
    {
     "data": {
      "image/png": "[encoded data removed]",
      "text/plain": [
       "<Figure size 640x480 with 1 Axes>"
      ]
     },
     "metadata": {},
     "output_type": "display_data"
    }
   ],
   "source": [
    "plt.plot(val_err)\n",
    "plt.plot(fifty,'r')"
   ]
  },
  {
   "cell_type": "code",
   "execution_count": 176,
   "id": "09cfb338-be48-489f-9d71-ed9748f98651",
   "metadata": {},
   "outputs": [],
   "source": [
    "## Sell when the RSI is in the 71-80 range\n",
    "## Buy when the RSI is in the 11-20 range"
   ]
  },
  {
   "cell_type": "code",
   "execution_count": 175,
   "id": "04cf04b6-c761-474e-86e8-59bd717104a6",
   "metadata": {},
   "outputs": [
    {
     "data": {
      "text/html": [
       "<div>\n",
       "<style scoped>\n",
       "    .dataframe tbody tr th:only-of-type {\n",
       "        vertical-align: middle;\n",
       "    }\n",
       "\n",
       "    .dataframe tbody tr th {\n",
       "        vertical-align: top;\n",
       "    }\n",
       "\n",
       "    .dataframe thead th {\n",
       "        text-align: right;\n",
       "    }\n",
       "</style>\n",
       "<table border=\"1\" class=\"dataframe\">\n",
       "  <thead>\n",
       "    <tr style=\"text-align: right;\">\n",
       "      <th></th>\n",
       "      <th>0-10</th>\n",
       "      <th>11-20</th>\n",
       "      <th>21-30</th>\n",
       "      <th>31-40</th>\n",
       "      <th>41-50</th>\n",
       "      <th>51-60</th>\n",
       "      <th>61-70</th>\n",
       "      <th>71-80</th>\n",
       "      <th>81-90</th>\n",
       "      <th>91-100</th>\n",
       "    </tr>\n",
       "  </thead>\n",
       "  <tbody>\n",
       "    <tr>\n",
       "      <th>0</th>\n",
       "      <td>4.0</td>\n",
       "      <td>47.0</td>\n",
       "      <td>221.0</td>\n",
       "      <td>1171.0</td>\n",
       "      <td>3786.0</td>\n",
       "      <td>945.0</td>\n",
       "      <td>-1159.0</td>\n",
       "      <td>-35.0</td>\n",
       "      <td>-3.0</td>\n",
       "      <td>NaN</td>\n",
       "    </tr>\n",
       "  </tbody>\n",
       "</table>\n",
       "</div>"
      ],
      "text/plain": [
       "  0-10 11-20  21-30   31-40   41-50  51-60   61-70 71-80 81-90 91-100\n",
       "0  4.0  47.0  221.0  1171.0  3786.0  945.0 -1159.0 -35.0  -3.0    NaN"
      ]
     },
     "execution_count": 175,
     "metadata": {},
     "output_type": "execute_result"
    }
   ],
   "source": [
    "rsi_matrix "
   ]
  },
  {
   "cell_type": "code",
   "execution_count": 171,
   "id": "61621707-ef88-4b10-9f03-c8618dbc2ac0",
   "metadata": {},
   "outputs": [
    {
     "data": {
      "text/plain": [
       "[0.75,\n",
       " 0.7584745762711864,\n",
       " 0.5637051039697543,\n",
       " 0.553356890459364,\n",
       " 0.5300291545189504,\n",
       " 0.5019061124514264,\n",
       " 0.5133102424542306,\n",
       " 0.5143699336772292,\n",
       " 0.46236559139784944,\n",
       " 1.0]"
      ]
     },
     "execution_count": 171,
     "metadata": {},
     "output_type": "execute_result"
    }
   ],
   "source": [
    "val_err"
   ]
  },
  {
   "cell_type": "code",
   "execution_count": 134,
   "id": "4e2a81ec-e913-42cd-ab02-7f42fd38e5c3",
   "metadata": {},
   "outputs": [],
   "source": [
    "#Let us now try find a machine learning model to learn how to optimally use our transition matrix\n",
    "from sklearn.neural_network import MLPClassifier\n",
    "from sklearn.metrics import accuracy_score\n",
    "from sklearn.model_selection import train_test_split,TimeSeriesSplit"
   ]
  },
  {
   "cell_type": "code",
   "execution_count": 135,
   "id": "216dc8de-036c-4f19-834f-b520c79038d0",
   "metadata": {},
   "outputs": [],
   "source": [
    "#Now let us partition our train set into 2 halves \n",
    "train , train_val = train_test_split(train,shuffle=False,test_size=0.5)"
   ]
  },
  {
   "cell_type": "code",
   "execution_count": 144,
   "id": "21e5ba2e-bf73-4d39-9be8-1c525a196627",
   "metadata": {},
   "outputs": [
    {
     "data": {
      "text/html": [
       "<div>\n",
       "<style scoped>\n",
       "    .dataframe tbody tr th:only-of-type {\n",
       "        vertical-align: middle;\n",
       "    }\n",
       "\n",
       "    .dataframe tbody tr th {\n",
       "        vertical-align: top;\n",
       "    }\n",
       "\n",
       "    .dataframe thead th {\n",
       "        text-align: right;\n",
       "    }\n",
       "</style>\n",
       "<table border=\"1\" class=\"dataframe\">\n",
       "  <thead>\n",
       "    <tr style=\"text-align: right;\">\n",
       "      <th></th>\n",
       "      <th>0-10</th>\n",
       "      <th>11-20</th>\n",
       "      <th>21-30</th>\n",
       "      <th>31-40</th>\n",
       "      <th>41-50</th>\n",
       "      <th>51-60</th>\n",
       "      <th>61-70</th>\n",
       "      <th>71-80</th>\n",
       "      <th>81-90</th>\n",
       "      <th>91-100</th>\n",
       "    </tr>\n",
       "  </thead>\n",
       "  <tbody>\n",
       "    <tr>\n",
       "      <th>0</th>\n",
       "      <td>1.0</td>\n",
       "      <td>0.655172</td>\n",
       "      <td>0.541701</td>\n",
       "      <td>0.536398</td>\n",
       "      <td>0.53243</td>\n",
       "      <td>0.516551</td>\n",
       "      <td>0.460306</td>\n",
       "      <td>0.491154</td>\n",
       "      <td>0.395349</td>\n",
       "      <td>0</td>\n",
       "    </tr>\n",
       "  </tbody>\n",
       "</table>\n",
       "</div>"
      ],
      "text/plain": [
       "  0-10     11-20     21-30     31-40    41-50     51-60     61-70     71-80  \\\n",
       "0  1.0  0.655172  0.541701  0.536398  0.53243  0.516551  0.460306  0.491154   \n",
       "\n",
       "      81-90 91-100  \n",
       "0  0.395349      0  "
      ]
     },
     "execution_count": 144,
     "metadata": {},
     "output_type": "execute_result"
    }
   ],
   "source": [
    "#Now let us recalculate our transition matrix, based on the first half of the training set\n",
    "rsi_matrix.iloc[0,0] = train.loc[(train[\"RSI_20\"] < 10) & (train[\"Target\"] == 1)].shape[0] / train.loc[(train[\"RSI_20\"] < 10)].shape[0]\n",
    "rsi_matrix.iloc[0,1] = train.loc[((train[\"RSI_20\"] > 10) & (train[\"RSI_20\"] <=20)) & (train[\"Target\"] == 1)].shape[0] / train.loc[((train[\"RSI_20\"] > 10) & (train[\"RSI_20\"] <=20))].shape[0]\n",
    "rsi_matrix.iloc[0,2] = train.loc[((train[\"RSI_20\"] > 20) & (train[\"RSI_20\"] <=30)) & (train[\"Target\"] == 1)].shape[0] / train.loc[((train[\"RSI_20\"] > 20) & (train[\"RSI_20\"] <=30))].shape[0]\n",
    "rsi_matrix.iloc[0,3] = train.loc[((train[\"RSI_20\"] > 30) & (train[\"RSI_20\"] <=40)) & (train[\"Target\"] == 1)].shape[0] / train.loc[((train[\"RSI_20\"] > 30) & (train[\"RSI_20\"] <=40))].shape[0]\n",
    "rsi_matrix.iloc[0,4] = train.loc[((train[\"RSI_20\"] > 40) & (train[\"RSI_20\"] <=50)) & (train[\"Target\"] == 1)].shape[0] / train.loc[((train[\"RSI_20\"] > 40) & (train[\"RSI_20\"] <=50))].shape[0]\n",
    "rsi_matrix.iloc[0,5] = train.loc[((train[\"RSI_20\"] > 50) & (train[\"RSI_20\"] <=60)) & (train[\"Target\"] == 1)].shape[0] / train.loc[((train[\"RSI_20\"] > 50) & (train[\"RSI_20\"] <=60))].shape[0]\n",
    "rsi_matrix.iloc[0,6] = train.loc[((train[\"RSI_20\"] > 60) & (train[\"RSI_20\"] <=70)) & (train[\"Target\"] == 1)].shape[0] / train.loc[((train[\"RSI_20\"] > 60) & (train[\"RSI_20\"] <=70))].shape[0]\n",
    "rsi_matrix.iloc[0,7] = train.loc[((train[\"RSI_20\"] > 70) & (train[\"RSI_20\"] <=80)) & (train[\"Target\"] == 1)].shape[0] / train.loc[((train[\"RSI_20\"] > 70) & (train[\"RSI_20\"] <=80))].shape[0]\n",
    "rsi_matrix.iloc[0,8] = train.loc[((train[\"RSI_20\"] > 80) & (train[\"RSI_20\"] <=90)) & (train[\"Target\"] == 1)].shape[0] / train.loc[((train[\"RSI_20\"] > 80) & (train[\"RSI_20\"] <=90))].shape[0]\n",
    "\n",
    "rsi_matrix"
   ]
  },
  {
   "cell_type": "code",
   "execution_count": 137,
   "id": "b727d059-0107-4ce6-a9e5-a86056721dab",
   "metadata": {},
   "outputs": [],
   "source": [
    "fifty = np.zeros(10) + 0.5"
   ]
  },
  {
   "cell_type": "code",
   "execution_count": 143,
   "id": "1bd5b4fd-07a6-4a14-92e2-785bd3164a3d",
   "metadata": {},
   "outputs": [
    {
     "data": {
      "text/plain": [
       "[<matplotlib.lines.Line2D at 0x7d600ccb87f0>]"
      ]
     },
     "execution_count": 143,
     "metadata": {},
     "output_type": "execute_result"
    },
    {
     "data": {
      "image/png": "[encoded data removed]",
      "text/plain": [
       "<Figure size 640x480 with 1 Axes>"
      ]
     },
     "metadata": {},
     "output_type": "display_data"
    }
   ],
   "source": [
    "#From the training set, it appears that RSI readings above 61 are bearish and RSI readings below 61 are bullish\n",
    "plt.plot(rsi_matrix.iloc[0,:])\n",
    "plt.plot(fifty,'r')"
   ]
  },
  {
   "cell_type": "code",
   "execution_count": 145,
   "id": "af7b8379-93f2-491d-b7c7-e1836468000c",
   "metadata": {},
   "outputs": [],
   "source": [
    "#Let's now store our model's predictions\n",
    "train[\"Predictions\"] = -1\n",
    "train.loc[train[\"RSI_20\"] < 61,\"Predictions\"] = 1"
   ]
  },
  {
   "cell_type": "code",
   "execution_count": 146,
   "id": "8a238482-6f19-40b9-af94-7864a1dbea10",
   "metadata": {},
   "outputs": [],
   "source": [
    "train_val[\"Predictions\"] = -1\n",
    "train_val.loc[train_val[\"RSI_20\"] < 61,\"Predictions\"] = 1"
   ]
  },
  {
   "cell_type": "code",
   "execution_count": 147,
   "id": "71b38efd-39b4-4df8-b7c6-e72f46846199",
   "metadata": {},
   "outputs": [
    {
     "name": "stderr",
     "output_type": "stream",
     "text": [
      "C:\\users\\volatily\\Temp\\ipykernel_808\\2753584207.py:1: SettingWithCopyWarning: \n",
      "A value is trying to be set on a copy of a slice from a DataFrame.\n",
      "Try using .loc[row_indexer,col_indexer] = value instead\n",
      "\n",
      "See the caveats in the documentation: https://pandas.pydata.org/pandas-docs/stable/user_guide/indexing.html#returning-a-view-versus-a-copy\n",
      "  test[\"Predictions\"] = -1\n"
     ]
    }
   ],
   "source": [
    "test[\"Predictions\"] = -1\n",
    "test.loc[test[\"RSI_20\"] < 61,\"Predictions\"] = 1"
   ]
  },
  {
   "cell_type": "code",
   "execution_count": 148,
   "id": "8e8fdc52-2baf-4266-9964-66498d5759fa",
   "metadata": {},
   "outputs": [],
   "source": [
    "#Let's Standardize and scale our data\n",
    "from sklearn.preprocessing import RobustScaler"
   ]
  },
  {
   "cell_type": "code",
   "execution_count": 181,
   "id": "66486707-a70a-4a93-ac21-6fd4caa6f389",
   "metadata": {},
   "outputs": [],
   "source": [
    "ohlc_predictors = [\"open\",\"high\",\"low\",\"close\",\"tick_volume\",\"spread\",\"RSI_20\"]\n",
    "transition_matrix = [\"Predictions\"]\n",
    "all_predictors = ohlc_predictors + transition_matrix\n",
    "target = [\"Target\"]"
   ]
  },
  {
   "cell_type": "code",
   "execution_count": 151,
   "id": "73bca4e9-8d16-4240-bd8c-cf12ae6b8d4f",
   "metadata": {},
   "outputs": [],
   "source": [
    "scaler = RobustScaler()\n",
    "scaler =  scaler.fit(train.loc[:,predictors])\n",
    "train_scaled = pd.DataFrame(scaler.transform(train.loc[:,predictors]),columns=predictors)\n",
    "train_val_scaled = pd.DataFrame(scaler.transform(train_val.loc[:,predictors]),columns=predictors)\n",
    "test_scaled = pd.DataFrame(scaler.transform(test.loc[:,predictors]),columns=predictors)"
   ]
  },
  {
   "cell_type": "code",
   "execution_count": 171,
   "id": "72dfe01e-0cd2-4b2b-b731-46ee0e8ad5f6",
   "metadata": {},
   "outputs": [],
   "source": [
    "#Create a dataframe to store our cv error on the training set, validation training set and the test set\n",
    "train_err     = pd.DataFrame(columns=[\"Transition Matrix\",\"Deep Markov Model\",\"OHLC Model\",\"All Model\"],index=np.arange(0,5)) \n",
    "train_val_err = pd.DataFrame(columns=[\"Transition Matrix\",\"Deep Markov Model\",\"OHLC Model\",\"All Model\"],index=[0]) \n",
    "test_err      = pd.DataFrame(columns=[\"Transition Matrix\",\"Deep Markov Model\",\"OHLC Model\",\"All Model\"],index=[0]) "
   ]
  },
  {
   "cell_type": "code",
   "execution_count": 161,
   "id": "26a0aeaf-a018-49a3-8805-68920901b2c4",
   "metadata": {},
   "outputs": [],
   "source": [
    "#Create a time series split object\n",
    "tscv = TimeSeriesSplit(n_splits = 5,gap=look_ahead)"
   ]
  },
  {
   "cell_type": "code",
   "execution_count": 204,
   "id": "d016240b-430f-4142-b488-af5fbda23d86",
   "metadata": {},
   "outputs": [],
   "source": [
    "train_scaled[\"Predictions\"] = train[\"Predictions\"]\n",
    "train_val_scaled[\"Predictions\"] = train_val[\"Predictions\"]\n",
    "test_scaled[\"Predictions\"] = test[\"Predictions\"]"
   ]
  },
  {
   "cell_type": "code",
   "execution_count": 217,
   "id": "55f882ed-7a7b-4c74-8aad-42ab213beb3c",
   "metadata": {},
   "outputs": [
    {
     "data": {
      "text/html": [
       "<div>\n",
       "<style scoped>\n",
       "    .dataframe tbody tr th:only-of-type {\n",
       "        vertical-align: middle;\n",
       "    }\n",
       "\n",
       "    .dataframe tbody tr th {\n",
       "        vertical-align: top;\n",
       "    }\n",
       "\n",
       "    .dataframe thead th {\n",
       "        text-align: right;\n",
       "    }\n",
       "</style>\n",
       "<table border=\"1\" class=\"dataframe\">\n",
       "  <thead>\n",
       "    <tr style=\"text-align: right;\">\n",
       "      <th></th>\n",
       "      <th>Transition Matrix</th>\n",
       "      <th>Deep Markov Model</th>\n",
       "      <th>OHLC Model</th>\n",
       "      <th>All Model</th>\n",
       "    </tr>\n",
       "  </thead>\n",
       "  <tbody>\n",
       "    <tr>\n",
       "      <th>0</th>\n",
       "      <td>0.526965</td>\n",
       "      <td>0.511303</td>\n",
       "      <td>0.49128</td>\n",
       "      <td>0.493541</td>\n",
       "    </tr>\n",
       "    <tr>\n",
       "      <th>1</th>\n",
       "      <td>NaN</td>\n",
       "      <td>0.52527</td>\n",
       "      <td>0.509042</td>\n",
       "      <td>0.521718</td>\n",
       "    </tr>\n",
       "    <tr>\n",
       "      <th>2</th>\n",
       "      <td>NaN</td>\n",
       "      <td>0.508639</td>\n",
       "      <td>0.529146</td>\n",
       "      <td>0.529388</td>\n",
       "    </tr>\n",
       "    <tr>\n",
       "      <th>3</th>\n",
       "      <td>NaN</td>\n",
       "      <td>0.553286</td>\n",
       "      <td>0.487647</td>\n",
       "      <td>0.512756</td>\n",
       "    </tr>\n",
       "    <tr>\n",
       "      <th>4</th>\n",
       "      <td>NaN</td>\n",
       "      <td>0.53843</td>\n",
       "      <td>0.487647</td>\n",
       "      <td>0.498305</td>\n",
       "    </tr>\n",
       "  </tbody>\n",
       "</table>\n",
       "</div>"
      ],
      "text/plain": [
       "  Transition Matrix Deep Markov Model OHLC Model All Model\n",
       "0          0.526965          0.511303    0.49128  0.493541\n",
       "1               NaN           0.52527   0.509042  0.521718\n",
       "2               NaN          0.508639   0.529146  0.529388\n",
       "3               NaN          0.553286   0.487647  0.512756\n",
       "4               NaN           0.53843   0.487647  0.498305"
      ]
     },
     "execution_count": 217,
     "metadata": {},
     "output_type": "execute_result"
    }
   ],
   "source": [
    "model = MLPClassifier(hidden_layer_sizes=(20,10))\n",
    "for i , (train_index,test_index) in enumerate(tscv.split(train_scaled)):\n",
    "    #Fit the model\n",
    "    model.fit(train.loc[train_index,transition_matrix],train.loc[train_index,\"Target\"])\n",
    "    #Record its accuracy\n",
    "    train_err.iloc[i,1] = accuracy_score(train.loc[test_index,\"Target\"],model.predict(train.loc[test_index,transition_matrix]))\n",
    "\n",
    "#Record our accuracy levels on the validation training set\n",
    "train_val_err.iloc[0,1] = accuracy_score(train_val.loc[:,\"Target\"],model.predict(train_val.loc[:,transition_matrix]))\n",
    "\n",
    "#Record our accuracy levels on the test set\n",
    "test_err.iloc[0,1] = accuracy_score(test.loc[:,\"Target\"],model.predict(test.loc[:,transition_matrix]))\n",
    "\n",
    "#Our accuracy levels on the training set\n",
    "train_err"
   ]
  },
  {
   "cell_type": "code",
   "execution_count": 218,
   "id": "7e8dc1a7-378f-4182-a098-269c9824c6dd",
   "metadata": {},
   "outputs": [
    {
     "data": {
      "text/html": [
       "<div>\n",
       "<style scoped>\n",
       "    .dataframe tbody tr th:only-of-type {\n",
       "        vertical-align: middle;\n",
       "    }\n",
       "\n",
       "    .dataframe tbody tr th {\n",
       "        vertical-align: top;\n",
       "    }\n",
       "\n",
       "    .dataframe thead th {\n",
       "        text-align: right;\n",
       "    }\n",
       "</style>\n",
       "<table border=\"1\" class=\"dataframe\">\n",
       "  <thead>\n",
       "    <tr style=\"text-align: right;\">\n",
       "      <th></th>\n",
       "      <th>Transition Matrix</th>\n",
       "      <th>Deep Markov Model</th>\n",
       "      <th>OHLC Model</th>\n",
       "      <th>All Model</th>\n",
       "    </tr>\n",
       "  </thead>\n",
       "  <tbody>\n",
       "    <tr>\n",
       "      <th>0</th>\n",
       "      <td>0.52309</td>\n",
       "      <td>0.52309</td>\n",
       "      <td>0.507306</td>\n",
       "      <td>0.517291</td>\n",
       "    </tr>\n",
       "  </tbody>\n",
       "</table>\n",
       "</div>"
      ],
      "text/plain": [
       "  Transition Matrix Deep Markov Model OHLC Model All Model\n",
       "0           0.52309           0.52309   0.507306  0.517291"
      ]
     },
     "execution_count": 218,
     "metadata": {},
     "output_type": "execute_result"
    }
   ],
   "source": [
    "train_val_err.iloc[0,0] = train_val.loc[train_val[\"Predictions\"] == train_val[\"Target\"]].shape[0] / train_val.shape[0]\n",
    "train_val_err"
   ]
  },
  {
   "cell_type": "code",
   "execution_count": 220,
   "id": "1286818a-789e-4e15-ba38-30a86dcb4192",
   "metadata": {},
   "outputs": [
    {
     "data": {
      "text/html": [
       "<div>\n",
       "<style scoped>\n",
       "    .dataframe tbody tr th:only-of-type {\n",
       "        vertical-align: middle;\n",
       "    }\n",
       "\n",
       "    .dataframe tbody tr th {\n",
       "        vertical-align: top;\n",
       "    }\n",
       "\n",
       "    .dataframe thead th {\n",
       "        text-align: right;\n",
       "    }\n",
       "</style>\n",
       "<table border=\"1\" class=\"dataframe\">\n",
       "  <thead>\n",
       "    <tr style=\"text-align: right;\">\n",
       "      <th></th>\n",
       "      <th>Transition Matrix</th>\n",
       "      <th>Deep Markov Model</th>\n",
       "      <th>OHLC Model</th>\n",
       "      <th>All Model</th>\n",
       "    </tr>\n",
       "  </thead>\n",
       "  <tbody>\n",
       "    <tr>\n",
       "      <th>0</th>\n",
       "      <td>0.519322</td>\n",
       "      <td>0.519322</td>\n",
       "      <td>0.497127</td>\n",
       "      <td>0.496724</td>\n",
       "    </tr>\n",
       "  </tbody>\n",
       "</table>\n",
       "</div>"
      ],
      "text/plain": [
       "  Transition Matrix Deep Markov Model OHLC Model All Model\n",
       "0          0.519322          0.519322   0.497127  0.496724"
      ]
     },
     "execution_count": 220,
     "metadata": {},
     "output_type": "execute_result"
    }
   ],
   "source": [
    "test_err.iloc[0,0] = test.loc[test[\"Predictions\"] == test[\"Target\"]].shape[0] / test.shape[0]\n",
    "test_err"
   ]
  }
 ],
 "metadata": {
  "kernelspec": {
   "display_name": "Python 3 (ipykernel)",
   "language": "python",
   "name": "python3"
  },
  "language_info": {
   "codemirror_mode": {
    "name": "ipython",
    "version": 3
   },
   "file_extension": ".py",
   "mimetype": "text/x-python",
   "name": "python",
   "nbconvert_exporter": "python",
   "pygments_lexer": "ipython3",
   "version": "3.10.0"
  }
 },
 "nbformat": 4,
 "nbformat_minor": 5
}
